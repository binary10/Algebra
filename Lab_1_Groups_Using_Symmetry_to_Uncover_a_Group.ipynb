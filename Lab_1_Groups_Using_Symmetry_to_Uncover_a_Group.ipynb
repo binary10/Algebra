{
  "nbformat": 4,
  "nbformat_minor": 0,
  "metadata": {
    "colab": {
      "name": "Lab 1 - Groups - Using Symmetry to Uncover a Group",
      "version": "0.3.2",
      "provenance": []
    }
  },
  "cells": [
    {
      "cell_type": "markdown",
      "metadata": {
        "id": "view-in-github",
        "colab_type": "text"
      },
      "source": [
        "[View in Colaboratory](https://colab.research.google.com/github/binary10/Algebra/blob/test/collaboratory/Lab_1_Groups_Using_Symmetry_to_Uncover_a_Group.ipynb)"
      ]
    },
    {
      "metadata": {
        "id": "zvWzLy10sfHz",
        "colab_type": "text"
      },
      "cell_type": "markdown",
      "source": [
        "# Lab 1 - Groups - Using Symmetry to Uncover a Group    \n",
        "**Goal.** Discover properties of groups by studying the symmetris of a regular triangle."
      ]
    },
    {
      "metadata": {
        "id": "m83zbBQMe0V5",
        "colab_type": "code",
        "colab": {}
      },
      "cell_type": "code",
      "source": [
        "import os"
      ],
      "execution_count": 0,
      "outputs": []
    },
    {
      "metadata": {
        "id": "BsGh9zKDudGO",
        "colab_type": "text"
      },
      "cell_type": "markdown",
      "source": [
        "### Q1\n",
        "\n"
      ]
    },
    {
      "metadata": {
        "id": "hIZQKyxzmZ8V",
        "colab_type": "text"
      },
      "cell_type": "markdown",
      "source": [
        "### Q2\n"
      ]
    },
    {
      "metadata": {
        "id": "6ECTW9qcmbc9",
        "colab_type": "text"
      },
      "cell_type": "markdown",
      "source": [
        "### Q3\n"
      ]
    },
    {
      "metadata": {
        "id": "xJM68WDOmcke",
        "colab_type": "text"
      },
      "cell_type": "markdown",
      "source": [
        "### Q4\n"
      ]
    },
    {
      "metadata": {
        "id": "VGE883RcmduK",
        "colab_type": "text"
      },
      "cell_type": "markdown",
      "source": [
        "### Q5\n"
      ]
    },
    {
      "metadata": {
        "id": "FQt8px3ymfSw",
        "colab_type": "text"
      },
      "cell_type": "markdown",
      "source": [
        "### Q6\n"
      ]
    },
    {
      "metadata": {
        "id": "F938cWv4mgEx",
        "colab_type": "text"
      },
      "cell_type": "markdown",
      "source": [
        "### Q7\n"
      ]
    },
    {
      "metadata": {
        "id": "nvbJSMWcmg9S",
        "colab_type": "text"
      },
      "cell_type": "markdown",
      "source": [
        "### Q8\n"
      ]
    },
    {
      "metadata": {
        "id": "8eocov3fmhsZ",
        "colab_type": "text"
      },
      "cell_type": "markdown",
      "source": [
        "### Q9\n"
      ]
    },
    {
      "metadata": {
        "id": "AM54xn6Hmik_",
        "colab_type": "text"
      },
      "cell_type": "markdown",
      "source": [
        "### Q10\n"
      ]
    },
    {
      "metadata": {
        "id": "pYWnW45WmjRL",
        "colab_type": "text"
      },
      "cell_type": "markdown",
      "source": [
        "### Q11\n"
      ]
    },
    {
      "metadata": {
        "id": "04QS2i0amj71",
        "colab_type": "text"
      },
      "cell_type": "markdown",
      "source": [
        "### Q12\n"
      ]
    },
    {
      "metadata": {
        "id": "EWiw61lymlDW",
        "colab_type": "text"
      },
      "cell_type": "markdown",
      "source": [
        "### Q13\n"
      ]
    }
  ]
}